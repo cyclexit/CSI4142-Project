{
 "cells": [
  {
   "cell_type": "markdown",
   "metadata": {},
   "source": [
    "Data preprocessing\n",
    "\n",
    "* handle missing values\n",
    "* handling categorical attributes\n",
    "* normalisation of numeric attributes\n",
    "* feature selection to remove potentially redundant attributes"
   ]
  },
  {
   "cell_type": "code",
   "execution_count": 32,
   "metadata": {},
   "outputs": [],
   "source": [
    "import pandas as pd\n",
    "import numpy as np\n",
    "from sklearn.impute import KNNImputer\n",
    "from sklearn.model_selection import train_test_split\n",
    "from sklearn.preprocessing import StandardScaler \n",
    "from sklearn.pipeline import Pipeline\n",
    "from sklearn.compose import ColumnTransformer\n",
    "\n",
    "np.random.seed(42)"
   ]
  },
  {
   "cell_type": "code",
   "execution_count": 33,
   "metadata": {},
   "outputs": [],
   "source": [
    "# Load datasets\n",
    "fact_df = pd.read_csv(\"../data/fact_table.csv\")\n",
    "year_df = pd.read_csv(\"../data/year_dimension.csv\")\n",
    "country_df = pd.read_csv(\"../data/country_dimension.csv\")\n",
    "population_df = pd.read_csv(\"../data/population_dimension.csv\")\n",
    "education_df = pd.read_csv(\"../data/education_dimension.csv\")\n",
    "health_df = pd.read_csv(\"../data/health_dimension.csv\")\n",
    "life_quality_df = pd.read_csv(\"../data/life_quality_dimension.csv\")\n",
    "event_df = pd.read_csv(\"../data/event_dimension.csv\")"
   ]
  },
  {
   "cell_type": "code",
   "execution_count": 34,
   "metadata": {},
   "outputs": [],
   "source": [
    "# Drop Year and Country Code Attributes\n",
    "columns = [\"Country Code\", \"Year\"]\n",
    "population_df = population_df.drop(columns=columns)\n",
    "education_df = education_df.drop(columns=columns)\n",
    "health_df = health_df.drop(columns=columns)\n",
    "life_quality_df = life_quality_df.drop(columns=columns)\n",
    "event_df = event_df.drop(columns=columns)"
   ]
  },
  {
   "cell_type": "code",
   "execution_count": 35,
   "metadata": {},
   "outputs": [],
   "source": [
    "# Merge fact table with all dimensions\n",
    "df = fact_df.merge(country_df, how = 'inner', on = \"country_key\")\n",
    "df = df.merge(year_df, how = 'inner', on = \"year_key\")\n",
    "df = df.merge(education_df, how = 'inner', on = \"education_key\")\n",
    "df = df.merge(health_df, how = 'inner', on = \"health_key\")\n",
    "df = df.merge(life_quality_df, how = 'inner', on = \"life_quality_key\")\n",
    "df = df.merge(population_df, how = 'inner', on = \"population_key\")\n",
    "df = df.merge(event_df, how = 'inner', on = \"event_key\")"
   ]
  },
  {
   "cell_type": "code",
   "execution_count": 40,
   "metadata": {},
   "outputs": [],
   "source": [
    "# Filter Attributes\n",
    "LABEL = \"human_development_index\"\n",
    "features = [\n",
    "\tLABEL,\n",
    "\t\"secondary_school_enrollment_percent_of_gross\", \n",
    "\t\"life_expectancy_female\", \n",
    "\t\"life_expectancy_male\",\n",
    "\t\"development_index\",\n",
    "\t\"tertiary_school_enrollment_percent_of_gross\",\n",
    "\t\"government_health_expenditure_percent_of_gdp\",\n",
    "\t\"birth_rate\",\n",
    "\t\"hospital_beds_per_1000\",\n",
    "\t\"prevalence_of_overweight_adult\",\n",
    "\t\"fertility_rate\",\n",
    "\t\"growth_rate\",\n",
    "\t\"current_health_expenditure_percent_of_gdp\",\n",
    "\t\"basic_drinking_water_rate_rural\",\n",
    "\t\"basic_drinking_water_rate\",\n",
    "\t\"prevalence_of_undernourishment\",\n",
    "\t\"open_defecation_rate\",\n",
    "\t\"open_defecation_rate_rural\",\n",
    "\t\"open_defecation_rate_urban\",\n",
    "\t\"prevalence_of_hiv\",\n",
    "\t\"capital_health_expenditure_percent_of_gdp\"\n",
    "]\n",
    "dataset = df[features]"
   ]
  },
  {
   "cell_type": "code",
   "execution_count": 37,
   "metadata": {},
   "outputs": [],
   "source": [
    "# Prepare Data\n",
    "train_set, test_set = train_test_split(dataset, test_size=0.33)\n",
    "\n",
    "train_data = train_set.drop(LABEL, axis=1)\n",
    "train_labels = train_set[LABEL].to_numpy(copy=True)\n",
    "\n",
    "test_data = test_set.drop(LABEL, axis=1)\n",
    "test_labels = train_set[LABEL].to_numpy(copy=True)"
   ]
  },
  {
   "cell_type": "code",
   "execution_count": 38,
   "metadata": {},
   "outputs": [],
   "source": [
    "# Create Pipeline, to fill in missing value and normalize dataset \n",
    "imputer = KNNImputer(n_neighbors=5)\n",
    "scaler = StandardScaler()\n",
    "\n",
    "numerical_pipeline = Pipeline([\n",
    "\t(\"imputer\", imputer),\n",
    "\t(\"scaler\", scaler),\n",
    "])\n",
    "\n",
    "num_feature_names = train_data.columns\n",
    "\n",
    "full_pipeline = ColumnTransformer([\n",
    "\t(\"num\", numerical_pipeline, num_feature_names)\n",
    "])\n",
    "\n",
    "prepared_training_data = full_pipeline.fit_transform(train_data)\n",
    "prepared_testing_data = full_pipeline.fit_transform(test_data)"
   ]
  }
 ],
 "metadata": {
  "interpreter": {
   "hash": "b602286cef28325c57ec5f20afd1d523340c25047f592800e5b0894ed9dd2b1d"
  },
  "kernelspec": {
   "display_name": "Python 3.9.6 ('venv': venv)",
   "language": "python",
   "name": "python3"
  },
  "language_info": {
   "codemirror_mode": {
    "name": "ipython",
    "version": 3
   },
   "file_extension": ".py",
   "mimetype": "text/x-python",
   "name": "python",
   "nbconvert_exporter": "python",
   "pygments_lexer": "ipython3",
   "version": "3.9.6"
  },
  "orig_nbformat": 4
 },
 "nbformat": 4,
 "nbformat_minor": 2
}
