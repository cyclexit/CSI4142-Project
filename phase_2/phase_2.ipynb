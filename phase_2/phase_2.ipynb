{
 "cells": [
  {
   "cell_type": "markdown",
   "metadata": {},
   "source": [
    "# CSI4142 Project Phase 2\n",
    "\n",
    "Group 45 Members\n",
    "\n",
    "|Name|Student No.|Email\n",
    "|----|-----------|-----\n",
    "|Hongyi Lin| 300053082| hlin087@uottawa.ca\n",
    "|Rodger Retanal| 300052309| rreta014@uottawa.ca\n",
    "|Hao Jing| 300071593|hjing098@uottawa.ca"
   ]
  },
  {
   "cell_type": "markdown",
   "metadata": {},
   "source": [
    "## Dependencies\n",
    "Use the following commands to install required packages for this notebook.\n",
    "```bash\n",
    "# pip\n",
    "pip install pandas\n",
    "pip install psycopg2\n",
    "\n",
    "# conda\n",
    "conda install pandas\n",
    "conda install psycopg2\n",
    "```\n"
   ]
  },
  {
   "cell_type": "code",
   "execution_count": 77,
   "metadata": {},
   "outputs": [],
   "source": [
    "from configparser import ConfigParser\n",
    "import psycopg2"
   ]
  },
  {
   "cell_type": "code",
   "execution_count": 78,
   "metadata": {},
   "outputs": [],
   "source": [
    "def db_config(filename='database.ini', section='postgresql'):\n",
    "    '''\n",
    "        This function reads the database config file.\n",
    "    '''\n",
    "    # create a parser\n",
    "    parser = ConfigParser()\n",
    "    # read config file\n",
    "    parser.read(filename)\n",
    "\n",
    "    # get section, default to postgresql\n",
    "    db = {}\n",
    "    if parser.has_section(section):\n",
    "        params = parser.items(section)\n",
    "        for param in params:\n",
    "            db[param[0]] = param[1]\n",
    "    else:\n",
    "        raise Exception('Section {0} not found in the {1} file'.format(section, filename))\n",
    "    return db\n",
    "\n",
    "def db_connect():\n",
    "    '''\n",
    "        Connect to the PostgreSQL database server.\n",
    "    '''\n",
    "    try:\n",
    "        # read connection parameters\n",
    "        db_params = db_config()\n",
    "\n",
    "        # connect to the PostgreSQL server\n",
    "        print('Connecting to the PostgreSQL database...')\n",
    "        db_conn = psycopg2.connect(**db_params)\n",
    "\n",
    "        # create a cursor\n",
    "        db_cur = db_conn.cursor()\n",
    "\n",
    "        # return database instances\n",
    "        return db_conn, db_cur\n",
    "    except (Exception, psycopg2.DatabaseError) as error:\n",
    "        print(error)"
   ]
  },
  {
   "cell_type": "code",
   "execution_count": 79,
   "metadata": {},
   "outputs": [
    {
     "name": "stdout",
     "output_type": "stream",
     "text": [
      "Connecting to the PostgreSQL database...\n",
      "('PostgreSQL 11.11 on amd64-portbld-freebsd11.4, compiled by FreeBSD clang version 10.0.0 (git@github.com:llvm/llvm-project.git llvmorg-10.0.0-0-gd32170dbd5b), 64-bit',)\n"
     ]
    }
   ],
   "source": [
    "# try to establish the connection\n",
    "db_conn, db_cur = db_connect()\n",
    "# verify the connection\n",
    "db_cur.execute('SELECT version()')\n",
    "db_version = db_cur.fetchone()\n",
    "print(db_version)"
   ]
  },
  {
   "cell_type": "code",
   "execution_count": 80,
   "metadata": {},
   "outputs": [],
   "source": [
    "# create the tables by executing init.sql\n",
    "db_cur.execute(open(\"init.sql\", \"r\").read())\n",
    "db_conn.commit()"
   ]
  },
  {
   "cell_type": "code",
   "execution_count": 81,
   "metadata": {},
   "outputs": [],
   "source": [
    "# close the cursor\n",
    "if db_cur is not None:\n",
    "    db_cur.close()\n",
    "\n",
    "# close the connection\n",
    "if db_conn is not None:\n",
    "    db_conn.close()"
   ]
  }
 ],
 "metadata": {
  "interpreter": {
   "hash": "201f89b8fb1f065834473e5401ba3f6eafd72acfdf0a46421b004a3a6529aba8"
  },
  "kernelspec": {
   "display_name": "Python 3.9.7 ('CSI4142')",
   "language": "python",
   "name": "python3"
  },
  "language_info": {
   "codemirror_mode": {
    "name": "ipython",
    "version": 3
   },
   "file_extension": ".py",
   "mimetype": "text/x-python",
   "name": "python",
   "nbconvert_exporter": "python",
   "pygments_lexer": "ipython3",
   "version": "3.9.7"
  },
  "orig_nbformat": 4
 },
 "nbformat": 4,
 "nbformat_minor": 2
}
