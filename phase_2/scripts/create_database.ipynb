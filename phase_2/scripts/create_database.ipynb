{
 "cells": [
  {
   "cell_type": "markdown",
   "metadata": {},
   "source": [
    "This script is used to create the schema and tables, and upload staged data to database."
   ]
  },
  {
   "cell_type": "code",
   "execution_count": 45,
   "metadata": {},
   "outputs": [],
   "source": [
    "import pandas as pd\n",
    "\n",
    "from database_utils import db_connect\n",
    "from constants import *"
   ]
  },
  {
   "cell_type": "code",
   "execution_count": 46,
   "metadata": {},
   "outputs": [
    {
     "name": "stdout",
     "output_type": "stream",
     "text": [
      "Connecting to the PostgreSQL database...\n",
      "('PostgreSQL 11.11 on amd64-portbld-freebsd11.4, compiled by FreeBSD clang version 10.0.0 (git@github.com:llvm/llvm-project.git llvmorg-10.0.0-0-gd32170dbd5b), 64-bit',)\n"
     ]
    }
   ],
   "source": [
    "# try to establish the connection\n",
    "db_conn, db_cur = db_connect()\n",
    "# verify the connection\n",
    "db_cur.execute('SELECT version()')\n",
    "db_version = db_cur.fetchone()\n",
    "print(db_version)"
   ]
  },
  {
   "cell_type": "code",
   "execution_count": 47,
   "metadata": {},
   "outputs": [],
   "source": [
    "# create the tables by executing init.sql\n",
    "db_cur.execute(open(\"init.sql\", \"r\").read())\n",
    "db_conn.commit()"
   ]
  },
  {
   "cell_type": "code",
   "execution_count": 48,
   "metadata": {},
   "outputs": [],
   "source": [
    "def insert_table_from_csv(file_path, table_name, cursor, conn):\n",
    "    data = pd.read_csv(file_path)\n",
    "    if \"Country Code\" in data.columns:\n",
    "        data.drop([\"Country Code\"])\n",
    "    if \"Year\" in data.columns:\n",
    "        data.drop([\"Year\"])\n",
    "    data = [tuple(x) for x in data.to_numpy()]\n",
    "    print(data[0])\n",
    "    template = ','.join(['%s'] * len(data))\n",
    "    query = 'INSERT INTO ' + table_name +' VALUES {}'.format(template)\n",
    "    cursor.execute(query, data)\n",
    "    conn.commit()"
   ]
  },
  {
   "cell_type": "code",
   "execution_count": 49,
   "metadata": {},
   "outputs": [
    {
     "name": "stdout",
     "output_type": "stream",
     "text": [
      "(0, 2005)\n"
     ]
    },
    {
     "ename": "ProgrammingError",
     "evalue": "can't adapt type 'numpy.int64'",
     "output_type": "error",
     "traceback": [
      "\u001b[1;31m---------------------------------------------------------------------------\u001b[0m",
      "\u001b[1;31mProgrammingError\u001b[0m                          Traceback (most recent call last)",
      "\u001b[1;32mc:\\Users\\honyl\\Dev\\CSI4142-Project\\phase_2\\scripts\\create_database.ipynb Cell 6'\u001b[0m in \u001b[0;36m<cell line: 4>\u001b[1;34m()\u001b[0m\n\u001b[0;32m      <a href='vscode-notebook-cell:/c%3A/Users/honyl/Dev/CSI4142-Project/phase_2/scripts/create_database.ipynb#ch0000004?line=1'>2</a>\u001b[0m db_cur\u001b[39m.\u001b[39mexecute(\u001b[39mf\u001b[39m\u001b[39m\"\u001b[39m\u001b[39mSET search_path = \u001b[39m\u001b[39m{\u001b[39;00mSCHEMA_NAME\u001b[39m}\u001b[39;00m\u001b[39m;\u001b[39m\u001b[39m\"\u001b[39m)\n\u001b[0;32m      <a href='vscode-notebook-cell:/c%3A/Users/honyl/Dev/CSI4142-Project/phase_2/scripts/create_database.ipynb#ch0000004?line=2'>3</a>\u001b[0m \u001b[39m# insert_table_from_csv(COUNTRY_DIMENSION_CSV, COUNTRY_DIMENSION, db_cur, db_conn)\u001b[39;00m\n\u001b[1;32m----> <a href='vscode-notebook-cell:/c%3A/Users/honyl/Dev/CSI4142-Project/phase_2/scripts/create_database.ipynb#ch0000004?line=3'>4</a>\u001b[0m insert_table_from_csv(YEAR_DIMENSION_CSV, YEAR_DIMENSION, db_cur, db_conn)\n",
      "\u001b[1;32mc:\\Users\\honyl\\Dev\\CSI4142-Project\\phase_2\\scripts\\create_database.ipynb Cell 5'\u001b[0m in \u001b[0;36minsert_table_from_csv\u001b[1;34m(file_path, table_name, cursor, conn)\u001b[0m\n\u001b[0;32m      <a href='vscode-notebook-cell:/c%3A/Users/honyl/Dev/CSI4142-Project/phase_2/scripts/create_database.ipynb#ch0000006?line=8'>9</a>\u001b[0m template \u001b[39m=\u001b[39m \u001b[39m'\u001b[39m\u001b[39m,\u001b[39m\u001b[39m'\u001b[39m\u001b[39m.\u001b[39mjoin([\u001b[39m'\u001b[39m\u001b[39m%s\u001b[39;00m\u001b[39m'\u001b[39m] \u001b[39m*\u001b[39m \u001b[39mlen\u001b[39m(data))\n\u001b[0;32m     <a href='vscode-notebook-cell:/c%3A/Users/honyl/Dev/CSI4142-Project/phase_2/scripts/create_database.ipynb#ch0000006?line=9'>10</a>\u001b[0m query \u001b[39m=\u001b[39m \u001b[39m'\u001b[39m\u001b[39mINSERT INTO \u001b[39m\u001b[39m'\u001b[39m \u001b[39m+\u001b[39m table_name \u001b[39m+\u001b[39m\u001b[39m'\u001b[39m\u001b[39m VALUES \u001b[39m\u001b[39m{}\u001b[39;00m\u001b[39m'\u001b[39m\u001b[39m.\u001b[39mformat(template)\n\u001b[1;32m---> <a href='vscode-notebook-cell:/c%3A/Users/honyl/Dev/CSI4142-Project/phase_2/scripts/create_database.ipynb#ch0000006?line=10'>11</a>\u001b[0m cursor\u001b[39m.\u001b[39;49mexecute(query, data)\n\u001b[0;32m     <a href='vscode-notebook-cell:/c%3A/Users/honyl/Dev/CSI4142-Project/phase_2/scripts/create_database.ipynb#ch0000006?line=11'>12</a>\u001b[0m conn\u001b[39m.\u001b[39mcommit()\n",
      "File \u001b[1;32m~\\miniconda3\\envs\\CSI4142\\lib\\site-packages\\psycopg2\\extensions.py:121\u001b[0m, in \u001b[0;36mSQL_IN.getquoted\u001b[1;34m(self)\u001b[0m\n\u001b[0;32m    <a href='file:///c%3A/Users/honyl/miniconda3/envs/CSI4142/lib/site-packages/psycopg2/extensions.py?line=117'>118</a>\u001b[0m \u001b[39mdef\u001b[39;00m \u001b[39mgetquoted\u001b[39m(\u001b[39mself\u001b[39m):\n\u001b[0;32m    <a href='file:///c%3A/Users/honyl/miniconda3/envs/CSI4142/lib/site-packages/psycopg2/extensions.py?line=118'>119</a>\u001b[0m     \u001b[39m# this is the important line: note how every object in the\u001b[39;00m\n\u001b[0;32m    <a href='file:///c%3A/Users/honyl/miniconda3/envs/CSI4142/lib/site-packages/psycopg2/extensions.py?line=119'>120</a>\u001b[0m     \u001b[39m# list is adapted and then how getquoted() is called on it\u001b[39;00m\n\u001b[1;32m--> <a href='file:///c%3A/Users/honyl/miniconda3/envs/CSI4142/lib/site-packages/psycopg2/extensions.py?line=120'>121</a>\u001b[0m     pobjs \u001b[39m=\u001b[39m [adapt(o) \u001b[39mfor\u001b[39;00m o \u001b[39min\u001b[39;00m \u001b[39mself\u001b[39m\u001b[39m.\u001b[39m_seq]\n\u001b[0;32m    <a href='file:///c%3A/Users/honyl/miniconda3/envs/CSI4142/lib/site-packages/psycopg2/extensions.py?line=121'>122</a>\u001b[0m     \u001b[39mif\u001b[39;00m \u001b[39mself\u001b[39m\u001b[39m.\u001b[39m_conn \u001b[39mis\u001b[39;00m \u001b[39mnot\u001b[39;00m \u001b[39mNone\u001b[39;00m:\n\u001b[0;32m    <a href='file:///c%3A/Users/honyl/miniconda3/envs/CSI4142/lib/site-packages/psycopg2/extensions.py?line=122'>123</a>\u001b[0m         \u001b[39mfor\u001b[39;00m obj \u001b[39min\u001b[39;00m pobjs:\n",
      "File \u001b[1;32m~\\miniconda3\\envs\\CSI4142\\lib\\site-packages\\psycopg2\\extensions.py:121\u001b[0m, in \u001b[0;36m<listcomp>\u001b[1;34m(.0)\u001b[0m\n\u001b[0;32m    <a href='file:///c%3A/Users/honyl/miniconda3/envs/CSI4142/lib/site-packages/psycopg2/extensions.py?line=117'>118</a>\u001b[0m \u001b[39mdef\u001b[39;00m \u001b[39mgetquoted\u001b[39m(\u001b[39mself\u001b[39m):\n\u001b[0;32m    <a href='file:///c%3A/Users/honyl/miniconda3/envs/CSI4142/lib/site-packages/psycopg2/extensions.py?line=118'>119</a>\u001b[0m     \u001b[39m# this is the important line: note how every object in the\u001b[39;00m\n\u001b[0;32m    <a href='file:///c%3A/Users/honyl/miniconda3/envs/CSI4142/lib/site-packages/psycopg2/extensions.py?line=119'>120</a>\u001b[0m     \u001b[39m# list is adapted and then how getquoted() is called on it\u001b[39;00m\n\u001b[1;32m--> <a href='file:///c%3A/Users/honyl/miniconda3/envs/CSI4142/lib/site-packages/psycopg2/extensions.py?line=120'>121</a>\u001b[0m     pobjs \u001b[39m=\u001b[39m [adapt(o) \u001b[39mfor\u001b[39;00m o \u001b[39min\u001b[39;00m \u001b[39mself\u001b[39m\u001b[39m.\u001b[39m_seq]\n\u001b[0;32m    <a href='file:///c%3A/Users/honyl/miniconda3/envs/CSI4142/lib/site-packages/psycopg2/extensions.py?line=121'>122</a>\u001b[0m     \u001b[39mif\u001b[39;00m \u001b[39mself\u001b[39m\u001b[39m.\u001b[39m_conn \u001b[39mis\u001b[39;00m \u001b[39mnot\u001b[39;00m \u001b[39mNone\u001b[39;00m:\n\u001b[0;32m    <a href='file:///c%3A/Users/honyl/miniconda3/envs/CSI4142/lib/site-packages/psycopg2/extensions.py?line=122'>123</a>\u001b[0m         \u001b[39mfor\u001b[39;00m obj \u001b[39min\u001b[39;00m pobjs:\n",
      "\u001b[1;31mProgrammingError\u001b[0m: can't adapt type 'numpy.int64'"
     ]
    }
   ],
   "source": [
    "# upload the dimension tables\n",
    "db_cur.execute(f\"SET search_path = {SCHEMA_NAME};\")\n",
    "# insert_table_from_csv(COUNTRY_DIMENSION_CSV, COUNTRY_DIMENSION, db_cur, db_conn)\n",
    "insert_table_from_csv(YEAR_DIMENSION_CSV, YEAR_DIMENSION, db_cur, db_conn)"
   ]
  },
  {
   "cell_type": "code",
   "execution_count": null,
   "metadata": {},
   "outputs": [],
   "source": [
    "# close the cursor\n",
    "if db_cur is not None:\n",
    "    db_cur.close()\n",
    "\n",
    "# close the connection\n",
    "if db_conn is not None:\n",
    "    db_conn.close()"
   ]
  }
 ],
 "metadata": {
  "interpreter": {
   "hash": "201f89b8fb1f065834473e5401ba3f6eafd72acfdf0a46421b004a3a6529aba8"
  },
  "kernelspec": {
   "display_name": "Python 3.9.7 ('CSI4142')",
   "language": "python",
   "name": "python3"
  },
  "language_info": {
   "codemirror_mode": {
    "name": "ipython",
    "version": 3
   },
   "file_extension": ".py",
   "mimetype": "text/x-python",
   "name": "python",
   "nbconvert_exporter": "python",
   "pygments_lexer": "ipython3",
   "version": "3.9.7"
  },
  "orig_nbformat": 4
 },
 "nbformat": 4,
 "nbformat_minor": 2
}
