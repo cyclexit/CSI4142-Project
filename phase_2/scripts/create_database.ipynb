{
 "cells": [
  {
   "cell_type": "markdown",
   "metadata": {},
   "source": [
    "This script is used to create the schema and tables, and upload staged data to database."
   ]
  },
  {
   "cell_type": "code",
   "execution_count": 160,
   "metadata": {},
   "outputs": [],
   "source": [
    "import pandas as pd\n",
    "import numpy as np\n",
    "from configparser import ConfigParser\n",
    "import psycopg2\n",
    "from psycopg2.extensions import register_adapter, AsIs\n",
    "\n",
    "from constants import *"
   ]
  },
  {
   "cell_type": "code",
   "execution_count": 161,
   "metadata": {},
   "outputs": [],
   "source": [
    "def db_config(filename='database.ini', section='postgresql'):\n",
    "    '''\n",
    "        This function reads the database config file.\n",
    "    '''\n",
    "    # create a parser\n",
    "    parser = ConfigParser()\n",
    "    # read config file\n",
    "    parser.read(filename)\n",
    "\n",
    "    # get section, default to postgresql\n",
    "    db = {}\n",
    "    if parser.has_section(section):\n",
    "        params = parser.items(section)\n",
    "        for param in params:\n",
    "            db[param[0]] = param[1]\n",
    "    else:\n",
    "        raise Exception('Section {0} not found in the {1} file'.format(section, filename))\n",
    "    return db\n",
    "\n",
    "def db_connect():\n",
    "    '''\n",
    "        Connect to the PostgreSQL database server.\n",
    "    '''\n",
    "    try:\n",
    "        # read connection parameters\n",
    "        db_params = db_config()\n",
    "\n",
    "        # connect to the PostgreSQL server\n",
    "        print('Connecting to the PostgreSQL database...')\n",
    "        db_conn = psycopg2.connect(**db_params)\n",
    "\n",
    "        # create a cursor\n",
    "        db_cur = db_conn.cursor()\n",
    "\n",
    "        # return database instances\n",
    "        return db_conn, db_cur\n",
    "    except (Exception, psycopg2.DatabaseError) as error:\n",
    "        print(error)\n"
   ]
  },
  {
   "cell_type": "code",
   "execution_count": 162,
   "metadata": {},
   "outputs": [
    {
     "name": "stdout",
     "output_type": "stream",
     "text": [
      "Connecting to the PostgreSQL database...\n",
      "('PostgreSQL 11.11 on amd64-portbld-freebsd11.4, compiled by FreeBSD clang version 10.0.0 (git@github.com:llvm/llvm-project.git llvmorg-10.0.0-0-gd32170dbd5b), 64-bit',)\n"
     ]
    }
   ],
   "source": [
    "# try to establish the connection\n",
    "db_conn, db_cur = db_connect()\n",
    "# verify the connection\n",
    "db_cur.execute('SELECT version()')\n",
    "db_version = db_cur.fetchone()\n",
    "print(db_version)"
   ]
  },
  {
   "cell_type": "code",
   "execution_count": 163,
   "metadata": {},
   "outputs": [],
   "source": [
    "# create the tables by executing init.sql\n",
    "db_cur.execute(open(\"init.sql\", \"r\").read())\n",
    "db_conn.commit()"
   ]
  },
  {
   "cell_type": "code",
   "execution_count": 164,
   "metadata": {},
   "outputs": [],
   "source": [
    "def insert_table_from_csv(file_path, table_name, cursor, conn):\n",
    "    data = pd.read_csv(file_path)\n",
    "    if \"Country Code\" in data.columns:\n",
    "        data.drop([\"Country Code\"], axis=1, inplace=True)\n",
    "    if \"Year\" in data.columns:\n",
    "        data.drop([\"Year\"], axis=1, inplace=True)\n",
    "    print(len(data.columns))\n",
    "    data = [tuple(x) for x in data.to_numpy()]\n",
    "    print(data[0])\n",
    "    template = ','.join(['%s'] * len(data))\n",
    "    query = 'INSERT INTO ' + table_name +' VALUES {}'.format(template)\n",
    "    cursor.execute(query, data)\n",
    "    conn.commit()"
   ]
  },
  {
   "cell_type": "code",
   "execution_count": 165,
   "metadata": {},
   "outputs": [
    {
     "name": "stdout",
     "output_type": "stream",
     "text": [
      "10\n",
      "(0, 'Parliamentary', True, 3.0, 'Left', 'LPC', 151.0, False, False, 308.0)\n"
     ]
    }
   ],
   "source": [
    "# adapt to numpy types and NaN\n",
    "register_adapter(np.int64, AsIs)\n",
    "def nan_to_null(f, _NULL=psycopg2.extensions.AsIs('NULL'), _Float=psycopg2.extensions.Float):\n",
    "    if not np.isnan(f):\n",
    "        return _Float(f)\n",
    "    return _NULL\n",
    "register_adapter(np.float64, nan_to_null)\n",
    "\n",
    "# upload the dimension tables\n",
    "db_cur.execute(f\"SET search_path = {SCHEMA_NAME};\")\n",
    "# insert_table_from_csv(COUNTRY_DIMENSION_CSV, COUNTRY_DIMENSION, db_cur, db_conn)\n",
    "# insert_table_from_csv(YEAR_DIMENSION_CSV, YEAR_DIMENSION, db_cur, db_conn)\n",
    "# insert_table_from_csv(EDUCATION_DIMENSION_CSV, EDUCATION_DIMENSION, db_cur, db_conn)\n",
    "# insert_table_from_csv(EVENT_DIMENSION_CSV, EVENT_DIMENSION, db_cur, db_conn)\n",
    "# insert_table_from_csv(HEALTH_DIMENSION_CSV, HEALTH_DIMENSION, db_cur, db_conn)\n",
    "# insert_table_from_csv(LIFE_QUALITY_DIMENSION_CSV, LIFE_QUALITY_DIMENSION, db_cur, db_conn)"
   ]
  },
  {
   "cell_type": "code",
   "execution_count": 166,
   "metadata": {},
   "outputs": [],
   "source": [
    "# close the cursor\n",
    "if db_cur is not None:\n",
    "    db_cur.close()\n",
    "\n",
    "# close the connection\n",
    "if db_conn is not None:\n",
    "    db_conn.close()"
   ]
  }
 ],
 "metadata": {
  "interpreter": {
   "hash": "201f89b8fb1f065834473e5401ba3f6eafd72acfdf0a46421b004a3a6529aba8"
  },
  "kernelspec": {
   "display_name": "Python 3.9.7 ('CSI4142')",
   "language": "python",
   "name": "python3"
  },
  "language_info": {
   "codemirror_mode": {
    "name": "ipython",
    "version": 3
   },
   "file_extension": ".py",
   "mimetype": "text/x-python",
   "name": "python",
   "nbconvert_exporter": "python",
   "pygments_lexer": "ipython3",
   "version": "3.9.7"
  },
  "orig_nbformat": 4
 },
 "nbformat": 4,
 "nbformat_minor": 2
}
