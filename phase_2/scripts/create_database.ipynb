{
 "cells": [
  {
   "cell_type": "markdown",
   "metadata": {},
   "source": [
    "# CSI4142 Project Phase 2\n",
    "\n",
    "Group 45 Members\n",
    "\n",
    "|Name|Student No.|Email\n",
    "|----|-----------|-----\n",
    "|Hongyi Lin| 300053082| hlin087@uottawa.ca\n",
    "|Rodger Retanal| 300052309| rreta014@uottawa.ca\n",
    "|Hao Jing| 300071593|hjing098@uottawa.ca"
   ]
  },
  {
   "cell_type": "markdown",
   "metadata": {},
   "source": [
    "## Dependencies\n",
    "Use the following commands to install required packages for this notebook.\n",
    "```bash\n",
    "# pip\n",
    "pip install pandas\n",
    "pip install psycopg2\n",
    "\n",
    "# conda\n",
    "conda install pandas\n",
    "conda install psycopg2\n",
    "```\n"
   ]
  },
  {
   "cell_type": "code",
   "execution_count": 6,
   "metadata": {},
   "outputs": [],
   "source": [
    "from database_utils import db_connect"
   ]
  },
  {
   "cell_type": "code",
   "execution_count": 7,
   "metadata": {},
   "outputs": [
    {
     "name": "stdout",
     "output_type": "stream",
     "text": [
      "Connecting to the PostgreSQL database...\n",
      "('PostgreSQL 11.11 on amd64-portbld-freebsd11.4, compiled by FreeBSD clang version 10.0.0 (git@github.com:llvm/llvm-project.git llvmorg-10.0.0-0-gd32170dbd5b), 64-bit',)\n"
     ]
    }
   ],
   "source": [
    "# try to establish the connection\n",
    "db_conn, db_cur = db_connect()\n",
    "# verify the connection\n",
    "db_cur.execute('SELECT version()')\n",
    "db_version = db_cur.fetchone()\n",
    "print(db_version)"
   ]
  },
  {
   "cell_type": "code",
   "execution_count": 8,
   "metadata": {},
   "outputs": [],
   "source": [
    "# create the tables by executing init.sql\n",
    "db_cur.execute(open(\"init.sql\", \"r\").read())\n",
    "db_conn.commit()"
   ]
  },
  {
   "cell_type": "code",
   "execution_count": 9,
   "metadata": {},
   "outputs": [],
   "source": [
    "# close the cursor\n",
    "if db_cur is not None:\n",
    "    db_cur.close()\n",
    "\n",
    "# close the connection\n",
    "if db_conn is not None:\n",
    "    db_conn.close()"
   ]
  }
 ],
 "metadata": {
  "interpreter": {
   "hash": "201f89b8fb1f065834473e5401ba3f6eafd72acfdf0a46421b004a3a6529aba8"
  },
  "kernelspec": {
   "display_name": "Python 3.9.7 ('CSI4142')",
   "language": "python",
   "name": "python3"
  },
  "language_info": {
   "codemirror_mode": {
    "name": "ipython",
    "version": 3
   },
   "file_extension": ".py",
   "mimetype": "text/x-python",
   "name": "python",
   "nbconvert_exporter": "python",
   "pygments_lexer": "ipython3",
   "version": "3.9.7"
  },
  "orig_nbformat": 4
 },
 "nbformat": 4,
 "nbformat_minor": 2
}
