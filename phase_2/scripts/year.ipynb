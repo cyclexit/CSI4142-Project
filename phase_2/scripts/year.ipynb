{
 "cells": [
  {
   "cell_type": "markdown",
   "metadata": {},
   "source": [
    "This script is used to generate `year_dimension.csv`."
   ]
  },
  {
   "cell_type": "code",
   "execution_count": 13,
   "metadata": {},
   "outputs": [],
   "source": [
    "import pandas as pd\n",
    "\n",
    "from constants import YEAR_DIMENSION_CSV"
   ]
  },
  {
   "cell_type": "code",
   "execution_count": 14,
   "metadata": {},
   "outputs": [],
   "source": [
    "START_YEAR = 2005\n",
    "END_YEAR = 2020"
   ]
  },
  {
   "cell_type": "code",
   "execution_count": 15,
   "metadata": {},
   "outputs": [
    {
     "name": "stdout",
     "output_type": "stream",
     "text": [
      "          year_num\n",
      "year_key          \n",
      "0             2005\n",
      "1             2006\n",
      "2             2007\n",
      "3             2008\n",
      "4             2009\n",
      "5             2010\n",
      "6             2011\n",
      "7             2012\n",
      "8             2013\n",
      "9             2014\n",
      "10            2015\n",
      "11            2016\n",
      "12            2017\n",
      "13            2018\n",
      "14            2019\n",
      "15            2020\n"
     ]
    }
   ],
   "source": [
    "year_df = pd.DataFrame()\n",
    "year_df.insert(0, \"year_num\", range(START_YEAR, END_YEAR + 1))\n",
    "year_df.rename_axis(\"year_key\", inplace=True)\n",
    "print(year_df)"
   ]
  },
  {
   "cell_type": "code",
   "execution_count": 16,
   "metadata": {},
   "outputs": [],
   "source": [
    "year_df.to_csv(YEAR_DIMENSION_CSV)"
   ]
  }
 ],
 "metadata": {
  "interpreter": {
   "hash": "201f89b8fb1f065834473e5401ba3f6eafd72acfdf0a46421b004a3a6529aba8"
  },
  "kernelspec": {
   "display_name": "Python 3.9.7 ('CSI4142')",
   "language": "python",
   "name": "python3"
  },
  "language_info": {
   "codemirror_mode": {
    "name": "ipython",
    "version": 3
   },
   "file_extension": ".py",
   "mimetype": "text/x-python",
   "name": "python",
   "nbconvert_exporter": "python",
   "pygments_lexer": "ipython3",
   "version": "3.9.7"
  },
  "orig_nbformat": 4
 },
 "nbformat": 4,
 "nbformat_minor": 2
}
