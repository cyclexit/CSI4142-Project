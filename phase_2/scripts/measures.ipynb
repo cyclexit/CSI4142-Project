{
 "cells": [
  {
   "cell_type": "markdown",
   "metadata": {},
   "source": [
    "# CSI4142 Project Phase 2\n",
    "\n",
    "Group 45 Members\n",
    "\n",
    "|Name|Student No.|Email\n",
    "|----|-----------|-----\n",
    "|Hongyi Lin| 300053082| hlin087@uottawa.ca\n",
    "|Rodger Retanal| 300052309| rreta014@uottawa.ca\n",
    "|Hao Jing| 300071593|hjing098@uottawa.ca"
   ]
  },
  {
   "cell_type": "markdown",
   "metadata": {},
   "source": [
    "## Dependencies\n",
    "Use the following commands to install required packages for this notebook.\n",
    "```bash\n",
    "# pip\n",
    "pip install pandas\n",
    "pip install psycopg2\n",
    "\n",
    "# conda\n",
    "conda install pandas\n",
    "conda install psycopg2\n",
    "```\n"
   ]
  },
  {
   "cell_type": "markdown",
   "metadata": {},
   "source": [
    "## Description\n",
    "This script is to process the raw data in csv format and generate the `measures.csv` which will be used to create the database."
   ]
  },
  {
   "cell_type": "code",
   "execution_count": null,
   "metadata": {},
   "outputs": [],
   "source": []
  }
 ],
 "metadata": {
  "interpreter": {
   "hash": "201f89b8fb1f065834473e5401ba3f6eafd72acfdf0a46421b004a3a6529aba8"
  },
  "kernelspec": {
   "display_name": "Python 3.9.7 ('CSI4142')",
   "language": "python",
   "name": "python3"
  },
  "language_info": {
   "name": "python",
   "version": "3.9.7"
  },
  "orig_nbformat": 4
 },
 "nbformat": 4,
 "nbformat_minor": 2
}
