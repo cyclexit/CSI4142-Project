{
 "cells": [
  {
   "cell_type": "code",
   "execution_count": 2,
   "metadata": {},
   "outputs": [],
   "source": [
    "import pandas as pd\n",
    "import numpy as np"
   ]
  },
  {
   "cell_type": "code",
   "execution_count": 70,
   "metadata": {},
   "outputs": [],
   "source": [
    "df = pd.read_csv('../data/population.csv')"
   ]
  },
  {
   "cell_type": "code",
   "execution_count": 71,
   "metadata": {},
   "outputs": [],
   "source": [
    "columns = df.columns.tolist()\n",
    "# fix column years format\n",
    "for i in range(4, len(columns)):\n",
    "\tcolumns[i] = columns[i][:4]\n",
    "df.columns = columns"
   ]
  },
  {
   "cell_type": "code",
   "execution_count": 72,
   "metadata": {},
   "outputs": [],
   "source": [
    "attributes_dic = {\n",
    "    \"life_expectancy_male\": \"SP.DYN.LE00.MA.IN\",\n",
    "    \"life_expectancy_female\": \"SP.DYN.LE00.FE.IN\",\n",
    "    \"birth_rate\": \"SP.DYN.CBRT.IN\",\n",
    "    \"death_rate\": \"SP.DYN.CDRT.IN\",\n",
    "    \"growth_rate\": \"SP.POP.GROW\",\n",
    "    \"fertility_rate\": \"SP.DYN.TFRT.IN\",\n",
    "    \"total_population\": \"SP.POP.TOTL\",\n",
    "    \"urban_population\": \"SP.URB.TOTL\",\n",
    "    \"rural_population\": \"SP.RUR.TOTL\",\n",
    "    \"population_ages_0_to_14\": \"SP.POP.0014.TO\",\n",
    "    \"population_ages_15_to_64\": \"SP.POP.1564.TO\",\n",
    "    \"population_ages_65_and_above\": \"SP.POP.65UP.TO\",\n",
    "}"
   ]
  },
  {
   "cell_type": "code",
   "execution_count": 73,
   "metadata": {},
   "outputs": [],
   "source": [
    "def transpose_attributes(dataframe, attribute):\n",
    "\tdataframe.drop(columns=[\"Series Name\", \"Series Code\", \"Country Name\"], inplace=True)\n",
    "\tcolumns = dataframe.columns.tolist()\n",
    "\tdf.melt(id_vars=\"Country Code\", value_vars=columns[1:], var_name=\"Year\", value_name=attribute)"
   ]
  },
  {
   "cell_type": "code",
   "execution_count": 79,
   "metadata": {},
   "outputs": [],
   "source": [
    "attributes_df_dic = {}\n",
    "for key, value in attributes_dic.items(): \n",
    "\tfilt = (df[\"Series Code\"] == value)\n",
    "\tattribute_df = df.loc[filt].copy()\n",
    "\ttranspose_attributes(attribute_df, key)\n",
    "\tattributes_df_dic[key] = attribute_df "
   ]
  },
  {
   "cell_type": "code",
   "execution_count": null,
   "metadata": {},
   "outputs": [],
   "source": [
    "attributes_lst_dic = list(attributes_df_dic.values())\n",
    "population_df = attributes_lst_dic[0] \n",
    "for i in range(1, len(attributes_lst_dic)):\n",
    "\tpopulation_df = pd.merge(population_df, attributes_lst_dic[i], how=\"left\", left_on=[\"Country Code\", \"Year\"], right_on=[\"Country Code\", \"Year\"])"
   ]
  }
 ],
 "metadata": {
  "interpreter": {
   "hash": "b602286cef28325c57ec5f20afd1d523340c25047f592800e5b0894ed9dd2b1d"
  },
  "kernelspec": {
   "display_name": "Python 3.9.6 ('venv': venv)",
   "language": "python",
   "name": "python3"
  },
  "language_info": {
   "codemirror_mode": {
    "name": "ipython",
    "version": 3
   },
   "file_extension": ".py",
   "mimetype": "text/x-python",
   "name": "python",
   "nbconvert_exporter": "python",
   "pygments_lexer": "ipython3",
   "version": "3.9.6"
  },
  "orig_nbformat": 4
 },
 "nbformat": 4,
 "nbformat_minor": 2
}
